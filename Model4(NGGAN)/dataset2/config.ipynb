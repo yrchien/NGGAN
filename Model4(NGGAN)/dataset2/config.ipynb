{
 "cells": [
  {
   "cell_type": "code",
   "execution_count": null,
   "id": "brazilian-defense",
   "metadata": {},
   "outputs": [],
   "source": [
    "import Ipynb_importer\n",
    "# %load config.py\n",
    "# Training\n",
    "EPOCHS = 200\n",
    "BATCH_SIZE = 64 #原程式設 10\n",
    "\n",
    "\n",
    "SAMPLE_EVERY = 1  # Generate audio samples every 1 epoch.\n",
    "SAMPLE_NUM = 10  # Generate 10 samples every sample generation. \n",
    "\n",
    "# Data\n",
    "DATASET_NAME = 'sc09/'\n",
    "OUTPUT_PATH = \"output/\""
   ]
  }
 ],
 "metadata": {
  "kernelspec": {
   "display_name": "Python 3",
   "language": "python",
   "name": "python3"
  },
  "language_info": {
   "codemirror_mode": {
    "name": "ipython",
    "version": 3
   },
   "file_extension": ".py",
   "mimetype": "text/x-python",
   "name": "python",
   "nbconvert_exporter": "python",
   "pygments_lexer": "ipython3",
   "version": "3.6.9"
  }
 },
 "nbformat": 4,
 "nbformat_minor": 5
}
