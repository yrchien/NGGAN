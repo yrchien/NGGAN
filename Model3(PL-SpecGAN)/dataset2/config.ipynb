{
 "cells": [
  {
   "cell_type": "code",
   "execution_count": 1,
   "metadata": {},
   "outputs": [],
   "source": [
    "import Ipynb_importer\n",
    "# %load config.py\n",
    "# signal processing paremeter\n",
    "ref_level_db = 20\n",
    "min_level_db = -80\n",
    "griffin_lim_iters=60\n",
    "\n",
    "# Training\n",
    "EPOCHS = 200\n",
    "BATCH_SIZE = 64 #raw =  10\n",
    "\n",
    "SAMPLE_EVERY = 1  # Generate audio samples every 1 epoch.\n",
    "SAMPLE_NUM = 10  # Generate 10 samples every sample generation. \n",
    "\n",
    "# Data\n",
    "DATASET_NAME = 'sc09/'\n",
    "OUTPUT_PATH = \"output/\""
   ]
  },
  {
   "cell_type": "code",
   "execution_count": null,
   "metadata": {},
   "outputs": [],
   "source": []
  }
 ],
 "metadata": {
  "kernelspec": {
   "display_name": "Python (pytorch)",
   "language": "python",
   "name": "myenv"
  },
  "language_info": {
   "codemirror_mode": {
    "name": "ipython",
    "version": 3
   },
   "file_extension": ".py",
   "mimetype": "text/x-python",
   "name": "python",
   "nbconvert_exporter": "python",
   "pygments_lexer": "ipython3",
   "version": "3.7.4"
  }
 },
 "nbformat": 4,
 "nbformat_minor": 4
}
