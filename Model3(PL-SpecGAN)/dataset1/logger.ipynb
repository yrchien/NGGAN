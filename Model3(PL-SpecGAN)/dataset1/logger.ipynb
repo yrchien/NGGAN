{
 "cells": [
  {
   "cell_type": "code",
   "execution_count": null,
   "metadata": {},
   "outputs": [],
   "source": [
    "import Ipynb_importer\n",
    "# %load logger.py\n",
    "import logging\n",
    "\n",
    "\n",
    "def init_console_logger(logger, verbose=False):\n",
    "    stream_handler = logging.StreamHandler()\n",
    "    if verbose:\n",
    "        stream_handler.setLevel(logging.DEBUG)\n",
    "    else:\n",
    "        stream_handler.setLevel(logging.INFO)\n",
    "    formatter = logging.Formatter('[%(levelname)s] %(message)s')\n",
    "    stream_handler.setFormatter(formatter)\n",
    "    file_handler = logging.FileHandler(\"model.log\")\n",
    "    logger.addHandler(stream_handler)\n",
    "    logger.addHandler(file_handler)"
   ]
  }
 ],
 "metadata": {
  "kernelspec": {
   "display_name": "Python 3",
   "language": "python",
   "name": "python3"
  },
  "language_info": {
   "codemirror_mode": {
    "name": "ipython",
    "version": 3
   },
   "file_extension": ".py",
   "mimetype": "text/x-python",
   "name": "python",
   "nbconvert_exporter": "python",
   "pygments_lexer": "ipython3",
   "version": "3.6.9"
  }
 },
 "nbformat": 4,
 "nbformat_minor": 4
}
